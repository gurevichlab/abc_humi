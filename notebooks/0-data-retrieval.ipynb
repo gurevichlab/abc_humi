{
 "cells": [
  {
   "cell_type": "code",
   "execution_count": 1,
   "id": "f758c5ae-9d77-4a8f-9586-9f58e940bc78",
   "metadata": {},
   "outputs": [],
   "source": [
    "import os\n",
    "import pandas as pd\n",
    "import requests\n",
    "from tqdm.notebook import trange, tqdm\n",
    "\n",
    "pd.set_option('display.max_columns', 100)"
   ]
  },
  {
   "cell_type": "markdown",
   "id": "8a465e87-7e3a-4132-8814-02d512be6e57",
   "metadata": {},
   "source": [
    "# EBI MGnify catalogs"
   ]
  },
  {
   "cell_type": "code",
   "execution_count": 2,
   "id": "b4948435-49b0-4f25-8c3e-1e0cdc9f0cf4",
   "metadata": {},
   "outputs": [],
   "source": [
    "def select_representatives(df):\n",
    "    representatives = set(df['Species_rep'].unique())\n",
    "    return df.loc[df['Genome'].isin(representatives)]"
   ]
  },
  {
   "cell_type": "markdown",
   "id": "6e18876a-8cd0-4408-b23a-5a7b546c5cd4",
   "metadata": {},
   "source": [
    "## Human oral catalog"
   ]
  },
  {
   "cell_type": "code",
   "execution_count": 3,
   "id": "4e47074b-fed5-449b-86a4-592e621de3be",
   "metadata": {},
   "outputs": [],
   "source": [
    "path_ebi_oral = '../raw_data/EBI/human-oral-v1-0'"
   ]
  },
  {
   "cell_type": "code",
   "execution_count": 4,
   "id": "03d9012e-da84-4e09-a8ae-57e101fb236e",
   "metadata": {},
   "outputs": [],
   "source": [
    "!mkdir -p $path_ebi_oral/fna\n",
    "!wget -P files/input/mgnify_meta http://ftp.ebi.ac.uk/pub/databases/metagenomics/mgnify_genomes/human-oral/v1.0/genomes-all_metadata.tsv\n",
    "!mv 'files/input/mgnify_meta/genomes-all_metadata.tsv' 'files/input/mgnify_meta/genomes-all_metadata_oral.tsv'"
   ]
  },
  {
   "cell_type": "code",
   "execution_count": 5,
   "id": "b7f32131-39e7-40c6-b6ad-f92c2ceb24af",
   "metadata": {},
   "outputs": [],
   "source": [
    "df_ebi_oral = select_representatives(pd.read_csv('files/input/mgnify_meta/genomes-all_metadata_oral.tsv', sep='\\t'))"
   ]
  },
  {
   "cell_type": "code",
   "execution_count": 6,
   "id": "2e610530-e308-4a74-b0b6-c611e36458a2",
   "metadata": {},
   "outputs": [],
   "source": [
    "df_ebi_oral.to_csv('files/output/mgnify_meta/representative-all_metadata_oral.tsv', index=False, sep='\\t')"
   ]
  },
  {
   "cell_type": "code",
   "execution_count": 7,
   "id": "8838e1e3-f91c-4d29-b291-8e82e723ea96",
   "metadata": {},
   "outputs": [
    {
     "name": "stdout",
     "output_type": "stream",
     "text": [
      "--2023-10-18 19:29:22--  http://ftp.ebi.ac.uk/pub/databases/metagenomics/mgnify_genomes/human-oral/v1.0/species_catalogue/MGYG0002980/MGYG000298013/genome/MGYG000298013.fna\n",
      "Resolving www-proxy.uni-saarland.de (www-proxy.uni-saarland.de)... 134.96.7.90, 134.96.7.92\n",
      "Connecting to www-proxy.uni-saarland.de (www-proxy.uni-saarland.de)|134.96.7.90|:3128... connected.\n",
      "Proxy request sent, awaiting response... 200 OK\n",
      "Length: 1481016 (1.4M)\n",
      "Saving to: ‘../raw_data/EBI/human-oral-v1-0/fna/MGYG000298013.fna.1’\n",
      "\n",
      "MGYG000298013.fna.1 100%[===================>]   1.41M  --.-KB/s    in 0.01s   \n",
      "\n",
      "2023-10-18 19:29:22 (110 MB/s) - ‘../raw_data/EBI/human-oral-v1-0/fna/MGYG000298013.fna.1’ saved [1481016/1481016]\n",
      "\n",
      "--2023-10-18 19:29:22--  http://ftp.ebi.ac.uk/pub/databases/metagenomics/mgnify_genomes/human-oral/v1.0/species_catalogue/MGYG0002980/MGYG000298020/genome/MGYG000298020.fna\n",
      "Resolving www-proxy.uni-saarland.de (www-proxy.uni-saarland.de)... 134.96.7.90, 134.96.7.92\n",
      "Connecting to www-proxy.uni-saarland.de (www-proxy.uni-saarland.de)|134.96.7.90|:3128... connected.\n",
      "Proxy request sent, awaiting response... 200 OK\n",
      "Length: 1976733 (1.9M)\n",
      "Saving to: ‘../raw_data/EBI/human-oral-v1-0/fna/MGYG000298020.fna.1’\n",
      "\n",
      "MGYG000298020.fna.1 100%[===================>]   1.88M  --.-KB/s    in 0.03s   \n",
      "\n",
      "2023-10-18 19:29:22 (73.1 MB/s) - ‘../raw_data/EBI/human-oral-v1-0/fna/MGYG000298020.fna.1’ saved [1976733/1976733]\n",
      "\n"
     ]
    }
   ],
   "source": [
    "for mag in df_ebi_oral['Genome']:\n",
    "    url = f\"http://ftp.ebi.ac.uk/pub/databases/metagenomics/mgnify_genomes/human-oral/v1.0/species_catalogue/{mag[:-2]}/{mag}/genome/{mag}.fna\"\n",
    "    !wget -P \"$path_ebi_oral/fna\" \"$url\""
   ]
  },
  {
   "cell_type": "markdown",
   "id": "7904dea8-3238-45e6-94db-bfb82d68e75c",
   "metadata": {},
   "source": [
    "## Human gut catalog"
   ]
  },
  {
   "cell_type": "code",
   "execution_count": 8,
   "id": "19009a22-43c7-4b52-b5a7-39333a8428c8",
   "metadata": {},
   "outputs": [],
   "source": [
    "path_ebi_gut = '../raw_data/EBI/human-gut-v2-0-1'"
   ]
  },
  {
   "cell_type": "code",
   "execution_count": 9,
   "id": "95bbe602-d3f5-4239-b7d6-0f85c885c411",
   "metadata": {},
   "outputs": [],
   "source": [
    "!mkdir -p $path_ebi_gut/fna\n",
    "!wget -P files/input/mgnify_meta http://ftp.ebi.ac.uk/pub/databases/metagenomics/mgnify_genomes/human-gut/v2.0.1/genomes-all_metadata.tsv \n",
    "!mv files/input/mgnify_meta/genomes-all_metadata.tsv files/input/mgnify_meta/genomes-all_metadata_gut.tsv"
   ]
  },
  {
   "cell_type": "code",
   "execution_count": 10,
   "id": "6e43568d-f27c-48e5-89a8-a5806cb5b8b7",
   "metadata": {},
   "outputs": [],
   "source": [
    "df_ebi_gut = select_representatives(pd.read_csv('files/input/mgnify_meta/genomes-all_metadata_gut.tsv', sep='\\t'))"
   ]
  },
  {
   "cell_type": "code",
   "execution_count": 11,
   "id": "c2303120-d945-4070-83ef-94161084bfd2",
   "metadata": {},
   "outputs": [],
   "source": [
    "df_ebi_gut.to_csv('files/output/mgnify_meta/representative-all_metadata_gut.tsv', index=False, sep='\\t')"
   ]
  },
  {
   "cell_type": "code",
   "execution_count": 12,
   "id": "df2e6d4b-bdf8-4ced-801d-206b03b6e4cf",
   "metadata": {},
   "outputs": [
    {
     "name": "stdout",
     "output_type": "stream",
     "text": [
      "--2023-10-18 19:29:37--  http://ftp.ebi.ac.uk/pub/databases/metagenomics/mgnify_genomes/human-gut/v2.0.1/species_catalogue/MGYG0000000/MGYG000000001/genome/MGYG000000001.fna\n",
      "Resolving www-proxy.uni-saarland.de (www-proxy.uni-saarland.de)... 134.96.7.90, 134.96.7.92\n",
      "Connecting to www-proxy.uni-saarland.de (www-proxy.uni-saarland.de)|134.96.7.90|:3128... connected.\n",
      "Proxy request sent, awaiting response... 200 OK\n",
      "Length: 3277816 (3.1M)\n",
      "Saving to: ‘../raw_data/EBI/human-gut-v2-0-1/fna/MGYG000000001.fna’\n",
      "\n",
      "MGYG000000001.fna   100%[===================>]   3.12M  1.83MB/s    in 1.7s    \n",
      "\n",
      "2023-10-18 19:29:39 (1.83 MB/s) - ‘../raw_data/EBI/human-gut-v2-0-1/fna/MGYG000000001.fna’ saved [3277816/3277816]\n",
      "\n",
      "--2023-10-18 19:29:39--  http://ftp.ebi.ac.uk/pub/databases/metagenomics/mgnify_genomes/human-gut/v2.0.1/species_catalogue/MGYG0000000/MGYG000000002/genome/MGYG000000002.fna\n",
      "Resolving www-proxy.uni-saarland.de (www-proxy.uni-saarland.de)... 134.96.7.90, 134.96.7.92\n",
      "Connecting to www-proxy.uni-saarland.de (www-proxy.uni-saarland.de)|134.96.7.90|:3128... connected.\n",
      "Proxy request sent, awaiting response... 200 OK\n",
      "Length: 4516328 (4.3M)\n",
      "Saving to: ‘../raw_data/EBI/human-gut-v2-0-1/fna/MGYG000000002.fna’\n",
      "\n",
      "MGYG000000002.fna   100%[===================>]   4.31M  1.87MB/s    in 2.3s    \n",
      "\n",
      "2023-10-18 19:29:42 (1.87 MB/s) - ‘../raw_data/EBI/human-gut-v2-0-1/fna/MGYG000000002.fna’ saved [4516328/4516328]\n",
      "\n"
     ]
    }
   ],
   "source": [
    "for mag in df_ebi_gut['Genome']:\n",
    "    url = f\"http://ftp.ebi.ac.uk/pub/databases/metagenomics/mgnify_genomes/human-gut/v2.0.1/species_catalogue/{mag[:-2]}/{mag}/genome/{mag}.fna\"\n",
    "    !wget -P \"$path_ebi_gut/fna\" \"$url\""
   ]
  },
  {
   "cell_type": "markdown",
   "id": "f186f567-d043-4c46-812a-9101d93ba1a8",
   "metadata": {},
   "source": [
    "# JGI GEM"
   ]
  },
  {
   "cell_type": "code",
   "execution_count": 13,
   "id": "f32e86df-b125-439e-a0de-8891ad38b306",
   "metadata": {},
   "outputs": [],
   "source": [
    "path_jgi = '../raw_data/JGI'"
   ]
  },
  {
   "cell_type": "code",
   "execution_count": 14,
   "id": "98f0c0e3-20d0-4d16-af3d-a348efe46438",
   "metadata": {},
   "outputs": [
    {
     "name": "stdout",
     "output_type": "stream",
     "text": [
      "--2023-10-18 19:30:11--  https://portal.nersc.gov/GEM/genomes/genome_metadata.tsv\n",
      "Resolving www-proxy.uni-saarland.de (www-proxy.uni-saarland.de)... 134.96.7.90, 134.96.7.92\n",
      "Connecting to www-proxy.uni-saarland.de (www-proxy.uni-saarland.de)|134.96.7.90|:3128... connected.\n",
      "Proxy request sent, awaiting response... 200 OK\n",
      "Length: 12350919 (12M) [text/tab-separated-values]\n",
      "Saving to: ‘../raw_data/JGI/genome_metadata.tsv’\n",
      "\n",
      "genome_metadata.tsv 100%[===================>]  11.78M  2.06MB/s    in 6.0s    \n",
      "\n",
      "2023-10-18 19:30:18 (1.97 MB/s) - ‘../raw_data/JGI/genome_metadata.tsv’ saved [12350919/12350919]\n",
      "\n"
     ]
    }
   ],
   "source": [
    "!mkdir -p $path_jgi/fna\n",
    "!wget -P $path_jgi https://portal.nersc.gov/GEM/genomes/genome_metadata.tsv "
   ]
  },
  {
   "cell_type": "code",
   "execution_count": 15,
   "id": "051cb2d9-4e4f-4066-a3c2-6cce9332d1ea",
   "metadata": {},
   "outputs": [],
   "source": [
    "df_jgi = pd.read_csv(os.path.join(path_jgi, 'genome_metadata.tsv'), sep='\\t')"
   ]
  },
  {
   "cell_type": "code",
   "execution_count": 16,
   "id": "79692800-24cf-4562-97b7-76a99fd1b4ba",
   "metadata": {},
   "outputs": [],
   "source": [
    "mask = df_jgi['ecosystem_category'] == 'Human'\n",
    "df_jgi.loc[mask].to_csv('files/input/jgi_meta/genome_metadata_human.tsv', sep='\\t', index=False)"
   ]
  },
  {
   "cell_type": "code",
   "execution_count": 20,
   "id": "1422fbb1-5660-45a2-80c8-0c9c726ddab7",
   "metadata": {},
   "outputs": [
    {
     "name": "stdout",
     "output_type": "stream",
     "text": [
      "--2023-10-18 19:36:06--  https://portal.nersc.gov/GEM/genomes/fna/3300025516_6.fna.gz\n",
      "Resolving www-proxy.uni-saarland.de (www-proxy.uni-saarland.de)... 134.96.7.90, 134.96.7.92\n",
      "Connecting to www-proxy.uni-saarland.de (www-proxy.uni-saarland.de)|134.96.7.90|:3128... connected.\n",
      "Proxy request sent, awaiting response... 200 OK\n",
      "Length: 823351 (804K) [application/x-gzip]\n",
      "Saving to: ‘../raw_data/JGI/fna/3300025516_6.fna.gz’\n",
      "\n",
      "3300025516_6.fna.gz 100%[===================>] 804.05K   923KB/s    in 0.9s    \n",
      "\n",
      "2023-10-18 19:36:07 (923 KB/s) - ‘../raw_data/JGI/fna/3300025516_6.fna.gz’ saved [823351/823351]\n",
      "\n",
      "--2023-10-18 19:36:08--  https://portal.nersc.gov/GEM/genomes/fna/3300025516_8.fna.gz\n",
      "Resolving www-proxy.uni-saarland.de (www-proxy.uni-saarland.de)... 134.96.7.90, 134.96.7.92\n",
      "Connecting to www-proxy.uni-saarland.de (www-proxy.uni-saarland.de)|134.96.7.90|:3128... connected.\n",
      "Proxy request sent, awaiting response... 200 OK\n",
      "Length: 687600 (671K) [application/x-gzip]\n",
      "Saving to: ‘../raw_data/JGI/fna/3300025516_8.fna.gz’\n",
      "\n",
      "3300025516_8.fna.gz 100%[===================>] 671.48K   926KB/s    in 0.7s    \n",
      "\n",
      "2023-10-18 19:36:09 (926 KB/s) - ‘../raw_data/JGI/fna/3300025516_8.fna.gz’ saved [687600/687600]\n",
      "\n"
     ]
    }
   ],
   "source": [
    "for mag in df_jgi['genome_id']:\n",
    "    url = f'https://portal.nersc.gov/GEM/genomes/fna/{mag}.fna.gz'\n",
    "    !wget -P \"$path_jgi/fna\" \"$url\" && gunzip $path_jgi/fna/$(basename $url)"
   ]
  },
  {
   "cell_type": "markdown",
   "id": "0b9e926b-5883-4844-94cc-e03e024d651a",
   "metadata": {},
   "source": [
    "# HMP"
   ]
  },
  {
   "cell_type": "code",
   "execution_count": 21,
   "id": "965b8d58-7c90-4cb1-a821-85d5ace93cbf",
   "metadata": {},
   "outputs": [],
   "source": [
    "path_hmp = '../raw_data/HMP'"
   ]
  },
  {
   "cell_type": "code",
   "execution_count": 22,
   "id": "4882a666-6dbe-4139-9ef3-3f21daea7311",
   "metadata": {},
   "outputs": [],
   "source": [
    "!mkdir -p $path_hmp/dwnl"
   ]
  },
  {
   "cell_type": "markdown",
   "id": "3e9854c0-7b18-4b5b-be76-548b08abb986",
   "metadata": {},
   "source": [
    "## Retrieving files from the wgs_assembled_seq_set category"
   ]
  },
  {
   "cell_type": "markdown",
   "id": "349177cc-5ae5-4d56-bc4d-8e62f5d27762",
   "metadata": {},
   "source": [
    "### Metadata"
   ]
  },
  {
   "cell_type": "code",
   "execution_count": 23,
   "id": "36057ac3-59ca-4961-ac84-23559bb6e3b9",
   "metadata": {},
   "outputs": [
    {
     "data": {
      "application/vnd.jupyter.widget-view+json": {
       "model_id": "a8dd6e860bec49858d70352dfdacdfe7",
       "version_major": 2,
       "version_minor": 0
      },
      "text/plain": [
       "  0%|          | 0/40 [00:00<?, ?it/s]"
      ]
     },
     "metadata": {},
     "output_type": "display_data"
    }
   ],
   "source": [
    "url = \"https://portal.hmpdacc.org/api/files\"\n",
    "\n",
    "params = {\n",
    "    \"fields\": \"file_format,file_type,file_annotation_pipeline,file_matrix_type\",\n",
    "    \"filters\": '{\"op\":\"and\",\"content\":[{\"op\":\"in\",\"content\":{\"field\":\"file.format\",\"value\":[\"FASTA\"]}},{\"op\":\"in\",\"content\":{\"field\":\"file.node_type\",\"value\":[\"wgs_assembled_seq_set\"]}}]}',\n",
    "    \"from\": 0,\n",
    "    \"save\": \"\",\n",
    "    \"size\": \"100\",\n",
    "    \"sort\": \"file_id:asc\",\n",
    "}\n",
    "\n",
    "all_dfs = []\n",
    "for params['from'] in tqdm(range(0, 4000, 100)): # <--- increase the range for next pages\n",
    "    data = requests.get(url, params=params).json()\n",
    "    all_dfs.append(pd.DataFrame([h['file'] for h in data['data']['hits']]))\n",
    "\n",
    "df = pd.concat(all_dfs).reset_index(drop=True)"
   ]
  },
  {
   "cell_type": "markdown",
   "id": "1d67a84c-710d-4b08-bfe0-57a300c1866a",
   "metadata": {},
   "source": [
    "### Deduplication\n",
    "\n",
    "Keep only the latest assembly for a sample"
   ]
  },
  {
   "cell_type": "code",
   "execution_count": 25,
   "id": "a6d898bc-8b14-4eda-b93d-dd16a7f08d9d",
   "metadata": {},
   "outputs": [],
   "source": [
    "df['basename'] = df['file_name'].map(os.path.basename)"
   ]
  },
  {
   "cell_type": "code",
   "execution_count": 26,
   "id": "1dda6c5c-29b9-40bb-94b5-5a7dcff0fbe8",
   "metadata": {},
   "outputs": [
    {
     "data": {
      "text/html": [
       "<div>\n",
       "<style scoped>\n",
       "    .dataframe tbody tr th:only-of-type {\n",
       "        vertical-align: middle;\n",
       "    }\n",
       "\n",
       "    .dataframe tbody tr th {\n",
       "        vertical-align: top;\n",
       "    }\n",
       "\n",
       "    .dataframe thead th {\n",
       "        text-align: right;\n",
       "    }\n",
       "</style>\n",
       "<table border=\"1\" class=\"dataframe\">\n",
       "  <thead>\n",
       "    <tr style=\"text-align: right;\">\n",
       "      <th></th>\n",
       "      <th>study</th>\n",
       "      <th>gender</th>\n",
       "      <th>assembly_name</th>\n",
       "      <th>node_type</th>\n",
       "      <th>paper</th>\n",
       "      <th>sop</th>\n",
       "      <th>subtype</th>\n",
       "      <th>https</th>\n",
       "      <th>id</th>\n",
       "      <th>s3</th>\n",
       "      <th>format_doc</th>\n",
       "      <th>organism_type</th>\n",
       "      <th>format</th>\n",
       "      <th>assembler</th>\n",
       "      <th>body_site</th>\n",
       "      <th>prep_id</th>\n",
       "      <th>data_modality</th>\n",
       "      <th>version</th>\n",
       "      <th>sequence_type</th>\n",
       "      <th>size</th>\n",
       "      <th>srs</th>\n",
       "      <th>rand_subject_id</th>\n",
       "      <th>data_type</th>\n",
       "      <th>name</th>\n",
       "      <th>abbrev</th>\n",
       "      <th>md5</th>\n",
       "      <th>file_name</th>\n",
       "      <th>access</th>\n",
       "      <th>basename</th>\n",
       "    </tr>\n",
       "  </thead>\n",
       "  <tbody>\n",
       "    <tr>\n",
       "      <th>2319</th>\n",
       "      <td>Human microbiome project WGS production phase I.</td>\n",
       "      <td>Female</td>\n",
       "      <td>SRS011061.fna.bz2</td>\n",
       "      <td>wgs_assembled_seq_set</td>\n",
       "      <td>2017_paper</td>\n",
       "      <td>http://hmpdacc.org/doc/HMP_IDBA_Assembly_SOP.pdf</td>\n",
       "      <td>wgs_assembly</td>\n",
       "      <td>https://downloads.hmpdacc.org/dacc/hhs/genome/...</td>\n",
       "      <td>54a24ca84a57a7d5b06687939f1678b2</td>\n",
       "      <td>s3://nih-hmp-hhs/hmasm2/SRS011061.fna.bz2</td>\n",
       "      <td>http://www.ncbi.nlm.nih.gov/BLAST/fasta.shtml</td>\n",
       "      <td>bacterial</td>\n",
       "      <td>FASTA</td>\n",
       "      <td>IDBAUD</td>\n",
       "      <td>feces</td>\n",
       "      <td>700014562</td>\n",
       "      <td>whole metagenome</td>\n",
       "      <td>v2</td>\n",
       "      <td>nucleotide</td>\n",
       "      <td>32953525</td>\n",
       "      <td>SRS011061</td>\n",
       "      <td>158458797</td>\n",
       "      <td>sequence</td>\n",
       "      <td>700014555</td>\n",
       "      <td>HHS</td>\n",
       "      <td>e8c5506d5eebc27945615ccc171ae3b7</td>\n",
       "      <td>https://downloads.hmpdacc.org/dacc/hhs/genome/...</td>\n",
       "      <td>open</td>\n",
       "      <td>SRS011061.fna.bz2</td>\n",
       "    </tr>\n",
       "    <tr>\n",
       "      <th>2935</th>\n",
       "      <td>Human microbiome project WGS production phase I.</td>\n",
       "      <td>Female</td>\n",
       "      <td>SRS011061.scaffolds.fa.bz2</td>\n",
       "      <td>wgs_assembled_seq_set</td>\n",
       "      <td>2012_paper</td>\n",
       "      <td>http://hmpdacc.org/doc/HMP_Assembly_SOP.pdf</td>\n",
       "      <td>wgs_assembly</td>\n",
       "      <td>https://downloads.hmpdacc.org/dacc/hhs/genome/...</td>\n",
       "      <td>596fc2de57601ec08a01fdee59fe4039</td>\n",
       "      <td>s3://nih-hmp-hhs/HMASM/PGAs/stool/SRS011061.sc...</td>\n",
       "      <td>http://www.ncbi.nlm.nih.gov/BLAST/fasta.shtml</td>\n",
       "      <td>bacterial</td>\n",
       "      <td>FASTA</td>\n",
       "      <td>SOAPdenovo v.1.04</td>\n",
       "      <td>feces</td>\n",
       "      <td>700014562</td>\n",
       "      <td>whole metagenome</td>\n",
       "      <td>v1</td>\n",
       "      <td>nucleotide</td>\n",
       "      <td>26014986</td>\n",
       "      <td>SRS011061</td>\n",
       "      <td>NaN</td>\n",
       "      <td>sequence</td>\n",
       "      <td>700014555</td>\n",
       "      <td>HHS</td>\n",
       "      <td>fa5942b5669aa360c22c6cf143fde32b</td>\n",
       "      <td>https://downloads.hmpdacc.org/dacc/hhs/genome/...</td>\n",
       "      <td>open</td>\n",
       "      <td>SRS011061.scaffolds.fa.bz2</td>\n",
       "    </tr>\n",
       "  </tbody>\n",
       "</table>\n",
       "</div>"
      ],
      "text/plain": [
       "                                                 study  gender  \\\n",
       "2319  Human microbiome project WGS production phase I.  Female   \n",
       "2935  Human microbiome project WGS production phase I.  Female   \n",
       "\n",
       "                   assembly_name              node_type       paper  \\\n",
       "2319           SRS011061.fna.bz2  wgs_assembled_seq_set  2017_paper   \n",
       "2935  SRS011061.scaffolds.fa.bz2  wgs_assembled_seq_set  2012_paper   \n",
       "\n",
       "                                                   sop       subtype  \\\n",
       "2319  http://hmpdacc.org/doc/HMP_IDBA_Assembly_SOP.pdf  wgs_assembly   \n",
       "2935       http://hmpdacc.org/doc/HMP_Assembly_SOP.pdf  wgs_assembly   \n",
       "\n",
       "                                                  https  \\\n",
       "2319  https://downloads.hmpdacc.org/dacc/hhs/genome/...   \n",
       "2935  https://downloads.hmpdacc.org/dacc/hhs/genome/...   \n",
       "\n",
       "                                    id  \\\n",
       "2319  54a24ca84a57a7d5b06687939f1678b2   \n",
       "2935  596fc2de57601ec08a01fdee59fe4039   \n",
       "\n",
       "                                                     s3  \\\n",
       "2319          s3://nih-hmp-hhs/hmasm2/SRS011061.fna.bz2   \n",
       "2935  s3://nih-hmp-hhs/HMASM/PGAs/stool/SRS011061.sc...   \n",
       "\n",
       "                                         format_doc organism_type format  \\\n",
       "2319  http://www.ncbi.nlm.nih.gov/BLAST/fasta.shtml     bacterial  FASTA   \n",
       "2935  http://www.ncbi.nlm.nih.gov/BLAST/fasta.shtml     bacterial  FASTA   \n",
       "\n",
       "              assembler body_site    prep_id     data_modality version  \\\n",
       "2319             IDBAUD     feces  700014562  whole metagenome      v2   \n",
       "2935  SOAPdenovo v.1.04     feces  700014562  whole metagenome      v1   \n",
       "\n",
       "     sequence_type      size        srs rand_subject_id data_type       name  \\\n",
       "2319    nucleotide  32953525  SRS011061       158458797  sequence  700014555   \n",
       "2935    nucleotide  26014986  SRS011061             NaN  sequence  700014555   \n",
       "\n",
       "     abbrev                               md5  \\\n",
       "2319    HHS  e8c5506d5eebc27945615ccc171ae3b7   \n",
       "2935    HHS  fa5942b5669aa360c22c6cf143fde32b   \n",
       "\n",
       "                                              file_name access  \\\n",
       "2319  https://downloads.hmpdacc.org/dacc/hhs/genome/...   open   \n",
       "2935  https://downloads.hmpdacc.org/dacc/hhs/genome/...   open   \n",
       "\n",
       "                        basename  \n",
       "2319           SRS011061.fna.bz2  \n",
       "2935  SRS011061.scaffolds.fa.bz2  "
      ]
     },
     "execution_count": 26,
     "metadata": {},
     "output_type": "execute_result"
    }
   ],
   "source": [
    "df.loc[df['basename'].str.contains('SRS011061')]"
   ]
  },
  {
   "cell_type": "code",
   "execution_count": 27,
   "id": "4ef04f39-c680-49d9-914f-ddf8d4e9f154",
   "metadata": {},
   "outputs": [],
   "source": [
    "mask = ~df['srs'].isna()\n",
    "df_derep = df.loc[mask].sort_values(['srs', 'version'], ascending=False).groupby('srs').head(1)\n",
    "df_derep = pd.concat([df_derep, df.loc[~mask]])"
   ]
  },
  {
   "cell_type": "code",
   "execution_count": null,
   "id": "6f11c118-5025-40b1-b916-1bcd36c3a3de",
   "metadata": {},
   "outputs": [],
   "source": [
    "df_derep.to_csv('files/input/hmp_meta/wgs_assembled_seq_set.tsv', sep='\\t', index=False)"
   ]
  },
  {
   "cell_type": "markdown",
   "id": "4700e967-5d69-43cb-99b5-fc65f50b1cdf",
   "metadata": {},
   "source": [
    "### Download links"
   ]
  },
  {
   "cell_type": "code",
   "execution_count": null,
   "id": "fae8b2d6-897b-4556-80d3-5dc3439d7c03",
   "metadata": {},
   "outputs": [],
   "source": [
    "# list of files to download\n",
    "df_derep['basename'] = df_derep['file_name'].map(os.path.basename)\n",
    "df_derep['file_name'].to_csv(os.path.join(path_hmp, 'links_latest_wgs_assembled_seq_set.txt'), index=False, header=False, sep='\\t')\n",
    "df_derep[['md5', 'basename']].to_csv(os.path.join(path_hmp, 'links_latest_wgs_assembled_seq_set.md5'), index=False, header=False, sep=' ')"
   ]
  },
  {
   "cell_type": "markdown",
   "id": "68272b85-dd3a-483a-b88e-8c461e1a2ec4",
   "metadata": {},
   "source": [
    "The files were retrieved with `cd $path_hmp/dwnl && parallel -j 20 -a ../files_wgs_assembled_seq_set.txt  wget {}` and unpacked to `$path_hmp/fna` under the names following `{id}.fna` pattern.\n"
   ]
  },
  {
   "cell_type": "code",
   "execution_count": null,
   "id": "2a11034d-b90d-4719-96b8-ad67f8eb2e06",
   "metadata": {},
   "outputs": [],
   "source": []
  }
 ],
 "metadata": {
  "kernelspec": {
   "display_name": "Python [conda env:py39] *",
   "language": "python",
   "name": "conda-env-py39-py"
  },
  "language_info": {
   "codemirror_mode": {
    "name": "ipython",
    "version": 3
   },
   "file_extension": ".py",
   "mimetype": "text/x-python",
   "name": "python",
   "nbconvert_exporter": "python",
   "pygments_lexer": "ipython3",
   "version": "3.9.16"
  },
  "widgets": {
   "application/vnd.jupyter.widget-state+json": {
    "state": {},
    "version_major": 2,
    "version_minor": 0
   }
  }
 },
 "nbformat": 4,
 "nbformat_minor": 5
}
