{
 "cells": [
  {
   "cell_type": "markdown",
   "id": "8cf7ca2c",
   "metadata": {},
   "source": [
    "## Representative's biosample id extraction"
   ]
  },
  {
   "cell_type": "code",
   "execution_count": 2,
   "id": "478f3b11",
   "metadata": {},
   "outputs": [],
   "source": [
    "import os\n",
    "import sys\n",
    "import pandas as pd"
   ]
  },
  {
   "cell_type": "code",
   "execution_count": 37,
   "id": "612bfbf1",
   "metadata": {},
   "outputs": [
    {
     "data": {
      "text/html": [
       "<div>\n",
       "<style scoped>\n",
       "    .dataframe tbody tr th:only-of-type {\n",
       "        vertical-align: middle;\n",
       "    }\n",
       "\n",
       "    .dataframe tbody tr th {\n",
       "        vertical-align: top;\n",
       "    }\n",
       "\n",
       "    .dataframe thead th {\n",
       "        text-align: right;\n",
       "    }\n",
       "</style>\n",
       "<table border=\"1\" class=\"dataframe\">\n",
       "  <thead>\n",
       "    <tr style=\"text-align: right;\">\n",
       "      <th></th>\n",
       "      <th>Genome</th>\n",
       "      <th>Sample_accession</th>\n",
       "    </tr>\n",
       "  </thead>\n",
       "  <tbody>\n",
       "    <tr>\n",
       "      <th>0</th>\n",
       "      <td>MGYG000298013</td>\n",
       "      <td>SAMN14570735</td>\n",
       "    </tr>\n",
       "    <tr>\n",
       "      <th>1</th>\n",
       "      <td>MGYG000298020</td>\n",
       "      <td>ERS6080737</td>\n",
       "    </tr>\n",
       "    <tr>\n",
       "      <th>2</th>\n",
       "      <td>MGYG000298021</td>\n",
       "      <td>SAMN14570687</td>\n",
       "    </tr>\n",
       "    <tr>\n",
       "      <th>3</th>\n",
       "      <td>MGYG000298022</td>\n",
       "      <td>SAMN14570798</td>\n",
       "    </tr>\n",
       "    <tr>\n",
       "      <th>4</th>\n",
       "      <td>MGYG000298023</td>\n",
       "      <td>ERS7876796</td>\n",
       "    </tr>\n",
       "  </tbody>\n",
       "</table>\n",
       "</div>"
      ],
      "text/plain": [
       "          Genome Sample_accession\n",
       "0  MGYG000298013     SAMN14570735\n",
       "1  MGYG000298020       ERS6080737\n",
       "2  MGYG000298021     SAMN14570687\n",
       "3  MGYG000298022     SAMN14570798\n",
       "4  MGYG000298023       ERS7876796"
      ]
     },
     "execution_count": 37,
     "metadata": {},
     "output_type": "execute_result"
    }
   ],
   "source": [
    "# Both gut and oral metadata tables were processed to extract 'Genome' and 'Sample_accession' columns\n",
    "# into a separate table\n",
    "\n",
    "df_gut = pd.read_csv('files/input/mgnify_meta/representative-all_metadata_gut.tsv', sep='\\t')\n",
    "df_oral = pd.read_csv('files/input/mgnify_meta/representative-all_metadata_oral.tsv', sep='\\t')\n",
    "\n",
    "def sample_repr(df):\n",
    "    condition = df['Genome'] == df['Species_rep']\n",
    "    result = df.loc[condition, ['Genome', 'Sample_accession']]\n",
    "    return result\n",
    "\n",
    "\n",
    "sample_repr(df_oral).to_csv('files/output/mgnify_biosample_meta/sampleoral.txt', sep='\\t', index=False)\n",
    "sample_repr(df_gut).to_csv('files/output/mgnify_biosample_meta/samplegut.txt', sep='\\t', index=False)\n",
    "\n",
    "sample_repr(df_oral).head()"
   ]
  },
  {
   "cell_type": "markdown",
   "id": "8fd167bd",
   "metadata": {},
   "source": [
    "## Biosample metadata extraction"
   ]
  },
  {
   "cell_type": "markdown",
   "id": "ba9c1aed",
   "metadata": {},
   "source": [
    "#### Oral metadata"
   ]
  },
  {
   "cell_type": "code",
   "execution_count": null,
   "id": "2dfb6363",
   "metadata": {},
   "outputs": [],
   "source": [
    "! bash /home/azat/Notebooks/humigec/git/scripts/biosample_oral.sh"
   ]
  },
  {
   "cell_type": "markdown",
   "id": "3065979a",
   "metadata": {},
   "source": [
    "#### Gut metadata"
   ]
  },
  {
   "cell_type": "code",
   "execution_count": null,
   "id": "a3f4ad47",
   "metadata": {},
   "outputs": [],
   "source": [
    "! bash /home/azat/Notebooks/humigec/git/scripts/biosample_gut.sh"
   ]
  },
  {
   "cell_type": "markdown",
   "id": "194d6850",
   "metadata": {},
   "source": [
    "### Example of output (files/biosamples_data/biosamples_ids_oral/MGYG000299120.txt)\n",
    "\n",
    "| BioSample  |  ENA first public  |  ENA last update  |  ENA-CHECKLIST  |  External Id  |  INSDC center alias  |  INSDC center name  |  INSDC first public  |  INSDC last update  |  INSDC status  |  Submitter Id  |  assembly quality  |  assembly software  |  binning parameters  |  binning software  |  broker name  |  collection_date  |  completeness score  |  completeness software  |  contamination score  |  env_broad_scale  |  env_local_scale  |  env_medium  |  geo_loc_name  |  geographic location (latitude)  |  geographic location (longitude)  |  investigation_type  |  isolation_source  |  metagenomic source  |  project_name  |  sample derived from  |  sample_name  |  sequencing method  |  taxonomic identity marker |\n",
    "| -- | -- | -- | -- | -- | -- | -- | -- | -- | -- | -- | -- | -- | -- | -- | -- | -- | -- | -- | -- | -- | -- | -- | -- | -- | -- | -- | -- | -- | -- | -- | -- |-- | -- |\n",
    "| SAMEA8395290  |  2021-03-23  |  2021-03-22  |  ERC000047  |  SAMEA8395290  |  EMG  |  EMG  |  2021-03-23T08:57:14Z  |  2021-03-22T20:42:55Z  |  public  |  SRR9217479-mag-bin.15  |  Many fragments with little to no review of assembly other than reporting of standard assembly statistics  |  metaspades_v3.14.1  |  default  |  MetaWRAP v1.1  |  EMG broker account, EMBL-EBI  |  not provided  |  92.94  |  CheckM v1.1.3  |  0  |  human-associated habitat  |  human oral cavity  |  not provided  |  not provided  |  not provided  |  not provided  |  metagenome-assembled genome  |  not provided  |  human oral metagenome  |  Human Oral MAGs  |  SRS4893097  |  SRR9217479-mag-bin.15  |  Illumina  |  multi-marker approach |\n"
   ]
  },
  {
   "cell_type": "markdown",
   "id": "819dee7b",
   "metadata": {},
   "source": [
    "## Creation of table with MAG id, Biosample id and metadata columns"
   ]
  },
  {
   "cell_type": "code",
   "execution_count": 46,
   "id": "44e15fdd",
   "metadata": {},
   "outputs": [],
   "source": [
    "# Specify the directory path where the TSV files are located\n",
    "# for oral this is '/files/biosamples_databiosamples_ids_oral/'\n",
    "# for gut this is '/files/biosamples_databiosamples_ids_git/'\n",
    "# specify the folder as the 1st argument\n",
    "\n",
    "directory_gut = 'files/input/mgnify_meta/biosamples_data/biosamples_ids_gut/'\n",
    "directory_oral = 'files/input/mgnify_meta/biosamples_data/biosamples_ids_oral/'\n",
    "\n",
    "#### Gut ####\n",
    "data_gut = []\n",
    "\n",
    "for filename in os.listdir(directory_gut):\n",
    "    if filename.endswith('.txt'):\n",
    "\n",
    "        file_path = os.path.join(directory_gut, filename)\n",
    "        df_gut = pd.read_csv(file_path, sep='\\t')\n",
    "        sample_name = filename[:-4]\n",
    "        if not df_gut.empty:\n",
    "            # Extract the 4 columns from the dataframe: \n",
    "            # Biosample id and 4 columns with the detailed information on the body site\n",
    "            bio_sample = df_gut['BioSample'].values[0] if 'BioSample' in df_gut.columns else 'NA'\n",
    "            env_broad_scale = df_gut['env_broad_scale'].values[0] if 'env_broad_scale' in df_gut.columns else 'NA'\n",
    "            env_local_scale = df_gut['env_local_scale'].values[0] if 'env_local_scale' in df_gut.columns else 'NA'\n",
    "            env_medium = df_gut['env_medium'].values[0] if 'env_medium' in df_gut.columns else 'NA'\n",
    "            isolation_source = df_gut['isolation_source'].values[0] if 'isolation_source' in df_gut.columns else 'NA'\n",
    "\n",
    "            data_gut.append([sample_name, bio_sample, env_broad_scale, env_local_scale, env_medium, isolation_source])\n",
    "        else:\n",
    "            data_gut.append([sample_name, 'NA', 'NA', 'NA', 'NA', 'NA'])\n",
    "            \n",
    "columns_gut = ['Genome', 'BioSample', 'env_broad_scale', 'env_local_scale', 'env_medium', 'isolation_source']\n",
    "df_result_gut = pd.DataFrame(data_gut, columns=columns_gut)\n",
    "df_result_gut = df_result_gut.fillna({'env_broad_scale': 'NA', 'env_local_scale': 'NA', 'env_medium': 'NA', 'isolation_source': 'NA'})\n",
    "df_result_gut.to_csv('files/output/mgnify_biosample_meta/biosample_gut_table.tsv', sep='\\t', index=False)\n",
    "\n",
    "#### Oral ####\n",
    "data_oral = []\n",
    "\n",
    "for filename in os.listdir(directory_oral):\n",
    "    if filename.endswith('.txt'):\n",
    "\n",
    "        file_path = os.path.join(directory_oral, filename)\n",
    "        df_oral = pd.read_csv(file_path, sep='\\t')\n",
    "        sample_name = filename[:-4]\n",
    "        if not df_oral.empty:\n",
    "            bio_sample = df_oral['BioSample'].values[0] if 'BioSample' in df_oral.columns else 'NA'\n",
    "            env_broad_scale = df_oral['env_broad_scale'].values[0] if 'env_broad_scale' in df_oral.columns else 'NA'\n",
    "            env_local_scale = df_oral['env_local_scale'].values[0] if 'env_local_scale' in df_oral.columns else 'NA'\n",
    "            env_medium = df_oral['env_medium'].values[0] if 'env_medium' in df_oral.columns else 'NA'\n",
    "            isolation_source = df_oral['isolation_source'].values[0] if 'isolation_source' in df_oral.columns else 'NA'\n",
    "\n",
    "            data_oral.append([sample_name, bio_sample, env_broad_scale, env_local_scale, env_medium, isolation_source])\n",
    "        else:\n",
    "            data_oral.append([sample_name, 'NA', 'NA', 'NA', 'NA', 'NA'])\n",
    "\n",
    "# Create a dataframe from the collected data\n",
    "columns_oral = ['Genome', 'BioSample', 'env_broad_scale', 'env_local_scale', 'env_medium', 'isolation_source']\n",
    "df_result_oral = pd.DataFrame(data_oral, columns=columns_oral)\n",
    "df_result_oral = df_result_oral.fillna({'env_broad_scale': 'NA', 'env_local_scale': 'NA', 'env_medium': 'NA', 'isolation_source': 'NA'})\n",
    "df_result_oral.to_csv('files/output/mgnify_biosample_meta/biosample_oral_table.tsv', sep='\\t', index=False)"
   ]
  },
  {
   "cell_type": "markdown",
   "id": "d0a51f9a",
   "metadata": {},
   "source": [
    "### Example of output (biosample_oral_table.tsv):\n",
    "\n",
    "|Genome   |    Sample_accession   |    env_broad_scale | env_local_scale | env_medium   |   isolation_source\n",
    "| --- | --- | --- | --- | --- | --- |\n",
    "|MGYG000298071  |  SAMN14571080  |  human oral   |   human oral   |   saliva | saliva"
   ]
  },
  {
   "cell_type": "markdown",
   "id": "4a6cc89b",
   "metadata": {},
   "source": [
    "***Then manual annotation was performed to classify all samples and stored at ebi_biosample_specimen_gut.tsv and ebi_biosample_specimen_oral.tsv***\n",
    "\n",
    "***For each sample corresponding column 'Specimen' was added***"
   ]
  },
  {
   "cell_type": "markdown",
   "id": "10d40406",
   "metadata": {},
   "source": [
    "### Example of output (mgnify_biosample_specimen_oral.tsv)\n",
    "|env_broad_scale | env_local_scale | env_medium | isolation_source | Body_site | Specimen_type  |  Specimen|\n",
    "| -- | -- | -- |-- | -- |-- | -- |\n",
    "| human-associated habitat   |   human oral cavity   |   not provided  |  not provided  |  Oral  |  Oral_unclassified   |   Oral_unclassified|"
   ]
  },
  {
   "cell_type": "markdown",
   "id": "174b6752",
   "metadata": {},
   "source": [
    "## Merge several tables related to one body site (Oral/Gut) into one"
   ]
  },
  {
   "cell_type": "code",
   "execution_count": 66,
   "id": "5235cf71",
   "metadata": {},
   "outputs": [],
   "source": [
    "#### Gut ####\n",
    "classification_df_gut = pd.read_csv('files/input/specimen_classifications/mgnify_biosample_specimen_gut.tsv', sep='\\t')\n",
    "classification_df_gut = classification_df_gut.fillna({'env_broad_scale': 'NA', 'env_local_scale': 'NA', 'env_medium': 'NA', 'isolation_source': 'NA'})\n",
    "\n",
    "biosample_df_gut = pd.read_csv('files/output/mgnify_biosample_meta/biosample_gut_table.tsv', sep='\\t')\n",
    "biosample_df_gut = biosample_df_gut.fillna({'env_broad_scale': 'NA', 'env_local_scale': 'NA', 'env_medium': 'NA', 'isolation_source': 'NA'})\n",
    "\n",
    "\n",
    "# Merge the dataframes based on the common columns\n",
    "merged_df_gut = pd.merge(biosample_df_gut, classification_df_gut[['env_broad_scale', 'env_local_scale', 'env_medium', 'isolation_source', 'Specimen']], on=['env_broad_scale', 'env_local_scale', 'env_medium', 'isolation_source'], how='left')\n",
    "\n",
    "new_order = ['Genome', 'Specimen', 'env_broad_scale', 'env_local_scale', 'env_medium', 'isolation_source']\n",
    "\n",
    "merged_df_gut = merged_df_gut[new_order]\n",
    "merged_df_gut.to_csv('files/output/mgnify_biosample_meta/mgnify_meta_sample_gut.tsv', sep='\\t', index=False)\n",
    "\n",
    "#### Oral ####\n",
    "classification_df_oral = pd.read_csv('files/input/specimen_classifications/mgnify_biosample_specimen_oral.tsv', sep='\\t')\n",
    "classification_df_oral = classification_df_oral.fillna({'env_broad_scale': 'NA', 'env_local_scale': 'NA', 'env_medium': 'NA', 'isolation_source': 'NA'})\n",
    "\n",
    "biosample_df_oral = pd.read_csv('files/output/mgnify_biosample_meta/biosample_oral_table.tsv', sep='\\t')\n",
    "biosample_df_oral = biosample_df_oral.fillna({'env_broad_scale': 'NA', 'env_local_scale': 'NA', 'env_medium': 'NA', 'isolation_source': 'NA'})\n",
    "\n",
    "\n",
    "# Merge the dataframes based on the common columns\n",
    "merged_df_oral = pd.merge(biosample_df_oral, classification_df_oral[['env_broad_scale', 'env_local_scale', 'env_medium', 'isolation_source', 'Specimen']], on=['env_broad_scale', 'env_local_scale', 'env_medium', 'isolation_source'], how='left')\n",
    "\n",
    "merged_df_oral = merged_df_oral[new_order]\n",
    "merged_df_oral.to_csv('files/output/mgnify_biosample_meta/mgnify_meta_sample_oral.tsv', sep='\\t', index=False)\n",
    "\n",
    "\n"
   ]
  }
 ],
 "metadata": {
  "kernelspec": {
   "display_name": "Python 3 (ipykernel)",
   "language": "python",
   "name": "python3"
  },
  "language_info": {
   "codemirror_mode": {
    "name": "ipython",
    "version": 3
   },
   "file_extension": ".py",
   "mimetype": "text/x-python",
   "name": "python",
   "nbconvert_exporter": "python",
   "pygments_lexer": "ipython3",
   "version": "3.9.16"
  },
  "widgets": {
   "application/vnd.jupyter.widget-state+json": {
    "state": {},
    "version_major": 2,
    "version_minor": 0
   }
  }
 },
 "nbformat": 4,
 "nbformat_minor": 5
}
